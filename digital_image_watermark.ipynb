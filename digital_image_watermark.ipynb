{
  "nbformat": 4,
  "nbformat_minor": 0,
  "metadata": {
    "colab": {
      "provenance": [],
      "authorship_tag": "ABX9TyNQVqtv4IMdwSAc816hj+qE",
      "include_colab_link": true
    },
    "kernelspec": {
      "name": "python3",
      "display_name": "Python 3"
    },
    "language_info": {
      "name": "python"
    }
  },
  "cells": [
    {
      "cell_type": "markdown",
      "metadata": {
        "id": "view-in-github",
        "colab_type": "text"
      },
      "source": [
        "<a href=\"https://colab.research.google.com/github/viraaji/Digital-Image-Watermark/blob/main/digital_image_watermark.ipynb\" target=\"_parent\"><img src=\"https://colab.research.google.com/assets/colab-badge.svg\" alt=\"Open In Colab\"/></a>"
      ]
    },
    {
      "cell_type": "code",
      "execution_count": null,
      "metadata": {
        "id": "of8Qa1JPzJts"
      },
      "outputs": [],
      "source": []
    },
    {
      "cell_type": "markdown",
      "source": [
        "## Digital Image Watermarking: Implementation and Analysis\n"
      ],
      "metadata": {
        "id": "OpgjmJB-Ze_M"
      }
    },
    {
      "cell_type": "markdown",
      "source": [
        "Experimental Setup and Utility Functions"
      ],
      "metadata": {
        "id": "dRVRSvYiZr2J"
      }
    },
    {
      "cell_type": "code",
      "source": [
        "import numpy as np\n",
        "import cv2\n",
        "import matplotlib.pyplot as plt\n",
        "from google.colab import files\n",
        "import IPython.display as display\n",
        "from PIL import Image\n",
        "import warnings"
      ],
      "metadata": {
        "id": "z4eafD5mZovS"
      },
      "execution_count": 1,
      "outputs": []
    },
    {
      "cell_type": "code",
      "source": [],
      "metadata": {
        "id": "ZIqxX3-caXpU"
      },
      "execution_count": null,
      "outputs": []
    }
  ]
}